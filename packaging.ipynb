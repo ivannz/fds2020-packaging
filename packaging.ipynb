{
 "cells": [
  {
   "cell_type": "markdown",
   "metadata": {},
   "source": [
    "# Packaging Python Projects for Fun and Profit"
   ]
  },
  {
   "cell_type": "markdown",
   "metadata": {},
   "source": [
    "A Python project (a framework, a tool or an application)\n",
    "\n",
    "* a collection of modules, packages and resources intented to solve a problem, e.g.\n",
    "\n",
    "> * provide new functionality, new numerical method or an algorithm\n",
    "> * process and dispatch requsets from connected users\n",
    "> * perform data collection, transformation and analytics"
   ]
  },
  {
   "cell_type": "markdown",
   "metadata": {},
   "source": [
    "Goal of packaging\n",
    "> a self-contained \"file\" for reliable transfer to, deployment on, and use in production environment"
   ]
  },
  {
   "cell_type": "markdown",
   "metadata": {},
   "source": [
    "What we are going to cover:\n",
    "\n",
    "* origanizing a project into a package\n",
    "* adding external extensions and shipping data with the package\n",
    "* preparing a package for distribution"
   ]
  },
  {
   "cell_type": "markdown",
   "metadata": {},
   "source": [
    "<br>"
   ]
  },
  {
   "cell_type": "markdown",
   "metadata": {},
   "source": [
    "## What is a Python module and package?"
   ]
  },
  {
   "cell_type": "markdown",
   "metadata": {},
   "source": [
    "A Python **module** is \n",
    "* a block of code imported by some other code\n",
    "* an object that serves as a **basic organizational unit** of code reusability in Python\n",
    "* a namespace containing arbitrary Python objects or modules\n",
    "\n",
    "Three types of modules: pure Python modules, extension modules, and packages\n",
    "* __(pure)__ Python code contained in a single `.py` script\n",
    "\n",
    "* __(extension)__ dynamically loadable code `.so` or `.dll` written in lower-level language (C/C++ for pyhton)\n",
    "\n",
    "A Python **package** is a module which contains pure modules, extensions, or recursively, other packages."
   ]
  },
  {
   "cell_type": "markdown",
   "metadata": {},
   "source": [
    "<br>"
   ]
  },
  {
   "cell_type": "markdown",
   "metadata": {},
   "source": [
    "### Distinctions"
   ]
  },
  {
   "cell_type": "markdown",
   "metadata": {},
   "source": [
    "At the file system level:\n",
    "\n",
    "* a `.py` script is a *module*\n",
    "* a directory with modules and subfolders is a *package*\n",
    "\n",
    "        package             │  module.py\n",
    "          ├── __init__.py   │\n",
    "          ├── foo           │\n",
    "          ├── bar           │\n",
    "          │   └── baz.py    │\n",
    "          └── module.py     │"
   ]
  },
  {
   "cell_type": "markdown",
   "metadata": {},
   "source": [
    "At the programming level\n",
    "* `.py` module is standalone, it just imports from Python's stdlib\n",
    "\n",
    "* a `package` can also import from witih itself"
   ]
  },
  {
   "cell_type": "markdown",
   "metadata": {},
   "source": [
    "<br>"
   ]
  },
  {
   "cell_type": "markdown",
   "metadata": {},
   "source": [
    "### Types of package"
   ]
  },
  {
   "cell_type": "markdown",
   "metadata": {},
   "source": [
    "**namespace package** is a directory that contains a bunch of Python packages or modules, but no `__init__.py`.\n",
    "* serves **only** as a logical container for packages\n",
    "\n",
    "        regular             │  namespace\n",
    "          ├── __init__.py   │    ├── foo\n",
    "          ├── foo           │    ├── bar\n",
    "          ├── bar           │    └── baz.py\n",
    "          └── baz.py        │\n",
    "\n",
    "**regular package** is a package containing `__init__.py`, which may be empty\n",
    "* a regular package may even be a lonely `__init__`"
   ]
  },
  {
   "cell_type": "markdown",
   "metadata": {},
   "source": [
    "<br>"
   ]
  },
  {
   "cell_type": "markdown",
   "metadata": {},
   "source": [
    "### Comparison\n",
    "\n",
    "A standalone module is compact\n",
    "* new objects and functionality quickly **bloat** to an unmaintainable mess\n",
    "\n",
    "Package is better organized\n",
    "* overzealous obsessive organization may lead to **fragmentation**"
   ]
  },
  {
   "cell_type": "markdown",
   "metadata": {},
   "source": [
    "Best of both worlds:\n",
    "* classes that tend to be reused together belong in the same sub-package\n",
    "* a sub-module has a single well-defined responsibility"
   ]
  },
  {
   "cell_type": "markdown",
   "metadata": {},
   "source": [
    "<br>"
   ]
  },
  {
   "cell_type": "markdown",
   "metadata": {},
   "source": [
    "### Importing from within\n",
    "\n",
    "Within a package it is allowed and **recommended** to use [relative imports](https://docs.python.org/3/reference/import.html#package-relative-imports):\n",
    "```python\n",
    "from .bar import base       # object `base` from parent's module `bar`\n",
    "\n",
    "from .. import func         # object `func` from the grantparent\n",
    "```\n",
    "* scripts can't import relative, only packages"
   ]
  },
  {
   "cell_type": "markdown",
   "metadata": {},
   "source": [
    "Here the **dot** specifies the module **relative to the current** script.\n",
    "Each extra `.` takes one **parent higher** in the module tree.\n",
    "\n",
    "* `.bar` is the *sibling* module `bar`\n",
    "* `..foo` is the *sibling* module `foo` of the parent\n",
    "* `...bar.baz` equals \"go up to *grand grand parent* and get **bar.baz** from there\"\n",
    "\n",
    "**<span style=\"color:red\">IMPORTANT</span>** Watch out for **circular** imports,\n",
    "i.e. you cannot import from a module, which imports from you!"
   ]
  },
  {
   "cell_type": "markdown",
   "metadata": {},
   "source": [
    "<br>"
   ]
  },
  {
   "cell_type": "markdown",
   "metadata": {},
   "source": [
    "### Import-visible objects"
   ]
  },
  {
   "cell_type": "markdown",
   "metadata": {},
   "source": [
    "When a package is imported, the `__init__.py` file is **implicitly executed**,\n",
    "and the objects it defines are bound to names in the package's namespace.\n",
    "\n",
    "These **declared or imported** objects are directly **visible and immediately\n",
    "accessible**. Otherwise, you need to expose them by **importing** explicitly.\n",
    "\n",
    "        package\n",
    "          ├── __init__.py      # from . import foo\n",
    "          ├── foo              <- `package.foo` visible after `import package`\n",
    "          ├── bar\n",
    "          │    └── zoo.py      <- `package.bar.zoo` only visible after `import package.bar.zoo`\n",
    "          └── baz.py           <- `package.baz` only visible after `import package.baz`\n",
    "\n",
    "You can import any sub-module or sub-package from a package."
   ]
  },
  {
   "cell_type": "markdown",
   "metadata": {},
   "source": [
    "<br>"
   ]
  },
  {
   "cell_type": "markdown",
   "metadata": {},
   "source": [
    "## Naming and structure\n",
    "\n",
    "Decently named modules and objects make the structure and logic of the library clear and transparent.\n",
    "* keeps code organized, easier to maintain and reuse."
   ]
  },
  {
   "cell_type": "markdown",
   "metadata": {},
   "source": [
    "        mtfusion\n",
    "          ├── __init__.py              <- `.pipeline` refers to `module.pipeline`\n",
    "          ├── pipeline.py              <- `.config.json` resolves as `module.config.json`\n",
    "          ├── core\n",
    "          │   ├── __init__.py\n",
    "          │   ├── load.py\n",
    "          │   └── model\n",
    "          │       ├── __init__.py\n",
    "          │       ├── attn.py          <- `..` refers to `module.core`\n",
    "          │       └── lstm.py          <- `...config.json` resolves as `module.config.json`\n",
    "          └── config\n",
    "              ├── __init__.py          <- `.` refers to `module.config`\n",
    "              ├── yaml.py\n",
    "              └── json.py"
   ]
  },
  {
   "cell_type": "markdown",
   "metadata": {},
   "source": [
    "The single resposibility principle entails that a Python module implements a single\n",
    "well-defined distinct piece of the solution. In the above example,\n",
    "\n",
    "* `core.models.attn` -- attention models solving the core problem\n",
    "* `core.models` -- general models solving the core problem\n",
    "* `core.load` -- loading dataset for the core problem\n",
    "* `core` -- solution of the core problem"
   ]
  },
  {
   "cell_type": "markdown",
   "metadata": {},
   "source": [
    "Implementing the same in a single `module.py` is a **mess**\n",
    "* difficult to navigate the code when developing\n",
    "* hard to maintain and extend the functionality\n",
    "* semi-related functionality is mixed together\n",
    "* troublesome to communicate to collaborators"
   ]
  },
  {
   "cell_type": "markdown",
   "metadata": {},
   "source": [
    "<br>"
   ]
  },
  {
   "cell_type": "markdown",
   "metadata": {},
   "source": [
    "### Running modules as scripts with \\_\\_main\\_\\_.py"
   ]
  },
  {
   "cell_type": "markdown",
   "metadata": {},
   "source": [
    "Any Python module may have an [ifmain](https://docs.python.org/3/library/__main__.html#module-__main__)\n",
    "section which is executed only if run as a script.\n",
    "\n",
    "* this makes module both importable and directly executable.\n",
    "\n",
    "```python\n",
    "# ./script.py\n",
    "def experiment_run(a=1, b=\"two\"):\n",
    "    pass\n",
    "\n",
    "if __name__ == '__main__':\n",
    "    import argparse\n",
    "\n",
    "    parser = argparse.ArgumentParser()\n",
    "    parser.add_argument('a', type=int)\n",
    "    parser.add_argument('b', type=str)\n",
    "\n",
    "    # vars() turn a dotted-namespace into a dict\n",
    "    options = vars(parser.parse_args())\n",
    "    experiment_run(**options)\n",
    "```\n",
    "call with `python script.py [arguments]`"
   ]
  },
  {
   "cell_type": "markdown",
   "metadata": {},
   "source": [
    "<br>"
   ]
  },
  {
   "cell_type": "markdown",
   "metadata": {},
   "source": [
    "In a package this can be done in `__main__.py`\n",
    "\n",
    "```python\n",
    "# ./package/__main__.py\n",
    "import argparse\n",
    "from .experiment import run  # `from package.experiment import run`\n",
    "\n",
    "parser = argparse.ArgumentParser()\n",
    "parser.add_argument('a', type=int)\n",
    "parser.add_argument('b', type=str)\n",
    "\n",
    "run(**vars(parser.parse_args()))\n",
    "```\n",
    "cal with `python -m package [arguments]` (run as module)\n",
    "* [PEP366](https://www.python.org/dev/peps/pep-0366/) allows relative imports to work correctly from main modules executed with the `-m` switch\n",
    "* running as script `python package/__main__.py` fails\n"
   ]
  },
  {
   "cell_type": "markdown",
   "metadata": {},
   "source": [
    "[ifmain](https://github.com/ivannz/fds2020-packaging.git)"
   ]
  },
  {
   "cell_type": "markdown",
   "metadata": {},
   "source": [
    "<br>"
   ]
  },
  {
   "cell_type": "markdown",
   "metadata": {},
   "source": [
    "# Preparing package distribution"
   ]
  },
  {
   "cell_type": "markdown",
   "metadata": {},
   "source": [
    "A **distribution** is\n",
    "* a collection of Python packages bundled into a single downloadable resource\n",
    "* meant to be installed en masse onto an existing Python installation\n",
    "\n",
    "A distribution is not a standalone application"
   ]
  },
  {
   "cell_type": "markdown",
   "metadata": {},
   "source": [
    "As a developer, your responsibilities (apart from writing solid, well-documented and well-tested code, of course!) are:\n",
    "\n",
    "* write a setup script using `setuptools`\n",
    "\n",
    "* (optional) write a setup configuration file\n",
    "\n",
    "* create a source distribution\n",
    "\n",
    "* (optional) create one or more built (binary) distributions"
   ]
  },
  {
   "cell_type": "markdown",
   "metadata": {},
   "source": [
    "### `setuptools`\n",
    "\n",
    "You actually will neve need to run the folowing install\n",
    "```bash\n",
    "pip install setuptools\n",
    "```"
   ]
  },
  {
   "cell_type": "markdown",
   "metadata": {},
   "source": [
    "* provides support for building and installing additional modules into a Python installation\n",
    "\n",
    "```python\n",
    "import setuptools\n",
    "\n",
    "from setuptools import setup, Extension\n",
    "```"
   ]
  },
  {
   "cell_type": "markdown",
   "metadata": {},
   "source": [
    "* a succesor to `distutils` from the Python's *stdlib*\n",
    "\n",
    "```python\n",
    "from distutils.core import setup, Extension\n",
    "```"
   ]
  },
  {
   "cell_type": "markdown",
   "metadata": {},
   "source": [
    "* use `numpy` enhanced `setup` for scientific distributions (mostly for easier linking and fortran code)\n",
    "\n",
    "```python\n",
    "import setuptools\n",
    "\n",
    "from numpy.distutils.core import setup, Extension\n",
    "```"
   ]
  },
  {
   "cell_type": "markdown",
   "metadata": {},
   "source": [
    "<br>"
   ]
  },
  {
   "cell_type": "markdown",
   "metadata": {},
   "source": [
    "## Essential `setup.py`"
   ]
  },
  {
   "cell_type": "markdown",
   "metadata": {},
   "source": [
    "Every package distribution needs a setup script to be properly built and installed.\n",
    "\n",
    "```python\n",
    "# setup.py\n",
    "from setuptools import setup, find_packages\n",
    "\n",
    "setup(\n",
    "    name=\"project\",            # name of the distribution (may not be the same as the package name)\n",
    "    version=\"0.1\",             # version of the release\n",
    "    packages=find_packages(),\n",
    ")\n",
    "```"
   ]
  },
  {
   "cell_type": "markdown",
   "metadata": {},
   "source": [
    "`python setup.py [...]` builds, distributes, and installs modules and packages, lists requirements"
   ]
  },
  {
   "cell_type": "markdown",
   "metadata": {},
   "source": [
    "<br>"
   ]
  },
  {
   "cell_type": "markdown",
   "metadata": {},
   "source": [
    "### Name\n",
    "\n",
    "This is the `name` of the distribution, which does not necessarily coincide with the package name"
   ]
  },
  {
   "cell_type": "markdown",
   "metadata": {},
   "source": [
    "<br>"
   ]
  },
  {
   "cell_type": "markdown",
   "metadata": {},
   "source": [
    "### Version"
   ]
  },
  {
   "cell_type": "markdown",
   "metadata": {},
   "source": [
    "`version` of the package release, e.g. `major.minor[.patch[.sub]]`, helps with tracking changes and incompatibilities\n",
    "* automatically upgrading experiment specifications from older versions"
   ]
  },
  {
   "cell_type": "markdown",
   "metadata": {},
   "source": [
    "[Semantic Versioning](https://semver.org/) with `major.minor[.patch][sub]`\n",
    "* The major number is **0** for initial, experimental releases of software, and\n",
    "    * API is **work-in-progress** and not guaranteed to be consistent between minor releases\n",
    "\n",
    "* The minor number is incremented when important new features are added to the package.\n",
    "\n",
    "* The patch number increments when bug-fix backwards compatible releases are made."
   ]
  },
  {
   "cell_type": "markdown",
   "metadata": {},
   "source": [
    "Version may also specify [extra information](https://setuptools.readthedocs.io/en/latest/setuptools.html#specifying-your-project-s-version)\n",
    "such as pre-release tags, relesae candidates, post-release tags, and local builds."
   ]
  },
  {
   "cell_type": "code",
   "execution_count": null,
   "metadata": {},
   "outputs": [],
   "source": [
    "from packaging.version import Version, VERSION_PATTERN\n",
    "\n",
    "# VERSION_PATTERN?"
   ]
  },
  {
   "cell_type": "markdown",
   "metadata": {},
   "source": [
    "<br>"
   ]
  },
  {
   "cell_type": "markdown",
   "metadata": {},
   "source": [
    "## Content of the distribution"
   ]
  },
  {
   "cell_type": "markdown",
   "metadata": {},
   "source": [
    "Modules may be either pure Python, or extension modules written in C/C++\n",
    "* or collections of packages, which include modules both Python and C/C++"
   ]
  },
  {
   "cell_type": "markdown",
   "metadata": {},
   "source": [
    "### Distributing individual modules"
   ]
  },
  {
   "cell_type": "markdown",
   "metadata": {},
   "source": [
    "Sometimes a `.py` module with \"640 lines of code ought to be [enough for anybody](https://quoteinvestigator.com/2011/09/08/640k-enough/)\".\n",
    "\n",
    "\n",
    "* `py_modules` lists all standalone Python modules specified by module name (w/o `.py`)\n",
    "\n",
    "        #         root\n",
    "        #           ├── tiny.py\n",
    "        #           └── setup.py\n",
    "\n",
    "```python\n",
    "from setuptools import setup\n",
    "\n",
    "setup(\n",
    "    name=\"TinyProject\",\n",
    "    version=\"0.1\",\n",
    "    py_modules=[\"tiny.py\",]\n",
    ")\n",
    "```"
   ]
  },
  {
   "cell_type": "markdown",
   "metadata": {},
   "source": [
    "`pip` tracks contents of such small distributions with `name`, so\n",
    "```bash\n",
    "pip uninstall TinyProject   # removes tiny.py and the related meta information\n",
    "```\n",
    "\n",
    "* **HOWEVER** imports are done like this:\n",
    "```python\n",
    "import tiny  # same as in `py_modules`\n",
    "```"
   ]
  },
  {
   "cell_type": "markdown",
   "metadata": {},
   "source": [
    "[tinyproj](https://github.com/ivannz/fds2020-packaging.git)"
   ]
  },
  {
   "cell_type": "markdown",
   "metadata": {},
   "source": [
    "<br>"
   ]
  },
  {
   "cell_type": "markdown",
   "metadata": {},
   "source": [
    "### Distributing whole packages"
   ]
  },
  {
   "cell_type": "markdown",
   "metadata": {},
   "source": [
    "In order to distribute an organized reusable Python package you need to list it's structure in `packages`\n",
    "* package names corespond to directories in the filesystem\n",
    "* by default relative to `setup.py`, can be overridden with `package_dir`"
   ]
  },
  {
   "cell_type": "markdown",
   "metadata": {},
   "source": [
    "For packages with simple directory structure `find_packages` can automatically populate `packages`\n",
    "* **scans** a specified directory for packages, that include an **\\_\\_init\\_\\_.py** file"
   ]
  },
  {
   "cell_type": "code",
   "execution_count": null,
   "metadata": {},
   "outputs": [],
   "source": [
    "from setuptools import find_packages\n",
    "\n",
    "find_packages?"
   ]
  },
  {
   "cell_type": "markdown",
   "metadata": {},
   "source": [
    "In some cases, however it is better to manually specify packages:\n",
    "\n",
    "        root\n",
    "          ├── src\n",
    "          │   ├── __init__.py\n",
    "          │   └── core.py\n",
    "          ├── project\n",
    "          │   ├── __init__.py\n",
    "          │   └── experiment.py\n",
    "          └── setup.py\n",
    "\n",
    "```python\n",
    "from setuptools import setup\n",
    "\n",
    "setup(\n",
    "    name=\"CharmingCerf\",\n",
    "    version=\"0.1\",\n",
    "    package_dir={'project.core': 'src'},\n",
    "    packages=[\n",
    "        'project',\n",
    "        'project.core',\n",
    "    ],\n",
    ")\n",
    "```"
   ]
  },
  {
   "cell_type": "markdown",
   "metadata": {},
   "source": [
    "[charmingcerf](https://github.com/ivannz/fds2020-packaging.git)\n",
    "[data-n-stuff](https://github.com/ivannz/fds2020-packaging.git)"
   ]
  },
  {
   "cell_type": "markdown",
   "metadata": {},
   "source": [
    "<br>"
   ]
  },
  {
   "cell_type": "markdown",
   "metadata": {},
   "source": [
    "### Declaring extension modules"
   ]
  },
  {
   "cell_type": "markdown",
   "metadata": {},
   "source": [
    "Unlike pure Python modules, which just need to be copied, modules written in C/C++ must be compiled for installation\n",
    "\n",
    "* `ext_modules` -- a list of `Extension` instances, each describing a single extension module\n",
    "\n",
    "```python\n",
    "from setuptools import setup, Extension\n",
    "\n",
    "setup(\n",
    "    ...,\n",
    "    ext_modules=[\n",
    "        Extension(...),\n",
    "    ],\n",
    ")\n",
    "```\n",
    "\n",
    "`Extension` arguments\n",
    "* `name` -- extension's name indicating where in Python’s namespace hierarchy the resulting extension lives\n",
    "\n",
    "* `sources` -- a list of C/C++/Objective-C source files\n",
    "* `libraries` -- the libraries to link against when building\n",
    "* `include_dirs` -- include directories in which to search required header files for compilation\n",
    "\n",
    "* [other options](https://docs.python.org/3/distutils/setupscript.html#other-options)"
   ]
  },
  {
   "cell_type": "markdown",
   "metadata": {},
   "source": [
    "#### Cython extensions\n",
    "\n",
    "Cython code files (`.pyx|.pxd`) should be converted to C/C++ source\n",
    "* If Cython is installed then `Extension` is smart enough to do it automatically\n",
    "\n",
    "```python\n",
    "from Cython.Build import cythonize\n",
    "\n",
    "setup(\n",
    "    ...,\n",
    "    ext_modules=cythonize([...])\n",
    ")\n",
    "```"
   ]
  },
  {
   "cell_type": "markdown",
   "metadata": {},
   "source": [
    "[extension-galore](https://github.com/ivannz/fds2020-packaging.git)"
   ]
  },
  {
   "cell_type": "markdown",
   "metadata": {},
   "source": [
    "<br>"
   ]
  },
  {
   "cell_type": "markdown",
   "metadata": {},
   "source": [
    "### Developing package in editable mode\n",
    "\n",
    "it's common to locally install your project in \"editable\" mode while you're working on it\n",
    "* the project is built and installed as a Python package and accessible\n",
    "* you can alter it at any time, and the changes and updates you make are automatically visible\n",
    "<!-- * this will also install any dependencies declared with \"install_requires\", if necessary -->\n",
    "\n",
    "```python\n",
    "# in the directory of `setup.py`\n",
    "pip install -e .\n",
    "```\n",
    "\n",
    "If you change an extension source code, it must be rebuilt:\n",
    "\n",
    "```python\n",
    "# in the directory of `setup.py`\n",
    "python setup.py build_ext\n",
    "```"
   ]
  },
  {
   "cell_type": "markdown",
   "metadata": {},
   "source": [
    "<br>"
   ]
  },
  {
   "cell_type": "markdown",
   "metadata": {},
   "source": [
    "## Types of distribution"
   ]
  },
  {
   "cell_type": "markdown",
   "metadata": {},
   "source": [
    "### Source distribution (`sdist`)"
   ]
  },
  {
   "cell_type": "markdown",
   "metadata": {},
   "source": [
    "Bundles metadata and the **essential** source files needed for building and installing\n",
    "* `setup.py` setup script, package *resources*, standard README files, e.g. `.md|.txt|.rst`\n",
    "* Python source files from `py_modules` and `packages`\n",
    "* C/C++ source files in `ext_modules` or `libraries`\n",
    "* [and other assets](https://docs.python.org/3/distutils/sourcedist.html#specifying-the-files-to-distribute)\n",
    "\n",
    "To create an archive with the setup script `setup.py` and package source:\n",
    "\n",
    "```bash\n",
    "python setup.py sdist\n",
    "# python setup.py sdist --help-formats\n",
    "```\n",
    "\n",
    "the archive's is determined by in `setup()` by keywords `name=...` and `version=...`"
   ]
  },
  {
   "cell_type": "markdown",
   "metadata": {},
   "source": [
    "[any example](https://github.com/ivannz/fds2020-packaging.git)"
   ]
  },
  {
   "cell_type": "markdown",
   "metadata": {},
   "source": [
    "<br>"
   ]
  },
  {
   "cell_type": "markdown",
   "metadata": {},
   "source": [
    "### Wheel distribution (`bdist`)\n",
    "\n",
    "**wheel** is a \"binary package\" containing Python source code and/or compiled byte-code\n",
    "designed to distiribute Python solutions\n",
    "* allows installation on the target system without needing to go through the \"build\" process \n",
    "* contains files and metadata that which only need to be **moved** to the correct location\n",
    "\n",
    "```bash\n",
    "# pip install wheel\n",
    "python setup.py bdist_wheel\n",
    "```\n",
    "\n",
    "Other platform-specific *bdist* are being [deprecated](https://www.python.org/dev/peps/pep-0527/) in favour of `wheel` or `sdist`."
   ]
  },
  {
   "cell_type": "markdown",
   "metadata": {},
   "source": [
    "Three types of wheels:\n",
    "\n",
    "* **Pure Python**: runnable on any Python installation with the **same major version as the one used to build the wheel** (no compiled extensions)\n",
    "\n",
    "* **Platform**: code using compiled extensions, needing a build platform-specific, e.g. Linux, macOS, or Windows\n",
    "\n",
    "* **Universal**: pure Python natively supporting **both** 2 **and** 3 (compiled extensions forbidden)"
   ]
  },
  {
   "cell_type": "markdown",
   "metadata": {},
   "source": [
    "[any example](https://github.com/ivannz/fds2020-packaging.git)"
   ]
  },
  {
   "cell_type": "markdown",
   "metadata": {},
   "source": [
    "<br>"
   ]
  },
  {
   "cell_type": "markdown",
   "metadata": {},
   "source": [
    "### Relationships between Distributions and Packages\n",
    "\n",
    "A distribution can declare which modules or packages it **requires**, **provides** and **obsoletes**\n",
    "* useful for dependency manager only, but **does not force** the prerequisites to be met\n",
    "\n",
    "\n",
    "`setup()` keywords:\n",
    "* `requires=...` : a list of required dependencies on other Python modules/packages\n",
    "    * optional comma0separated list of version qualifiers, which must ALL be met (logical AND)\n",
    "\n",
    "\n",
    "        [\"scikit-learn (>=0.19)\", \"networkx (>=1.0, !=1.11, <2.0)\", \"cvxopt==3.2.1\"]\n",
    "\n",
    "* `provides=...` a list of Python modules or packages the distribution provides for others\n",
    "\n",
    "* `obsoletes=...` a list, like `requires`, of other packages that are obsoleted by the package\n",
    "    * if no qualifiers are given, all versions of a module/package are obsoleted"
   ]
  },
  {
   "cell_type": "markdown",
   "metadata": {},
   "source": [
    "<br>"
   ]
  },
  {
   "cell_type": "markdown",
   "metadata": {},
   "source": [
    "## Additional options"
   ]
  },
  {
   "cell_type": "markdown",
   "metadata": {},
   "source": [
    "### Force requirements\n",
    "\n",
    "It is possilbe to enforce requirements in `setup.py` with `install_requires`\n",
    "* a list of strings specifying what other distributions should to be installed\n",
    "\n",
    "```python\n",
    "setup(\n",
    "    ...,\n",
    "    install_requires=[\n",
    "        \"scipy\",\n",
    "        \"numpy >=1.10.4\",\n",
    "        \"cloudpickle >=1.2.0, <1.4.0\",\n",
    "        \"gym[atari] >=0.16, !=1.16.1\",\n",
    "        \"package @ https://example.com/repo.git@revision#egg=project-version\"\n",
    "    ],\n",
    "    python_requires='>=3.5',\n",
    ")\n",
    "```"
   ]
  },
  {
   "cell_type": "markdown",
   "metadata": {},
   "source": [
    "<br>"
   ]
  },
  {
   "cell_type": "markdown",
   "metadata": {},
   "source": [
    "### Disctribution traits"
   ]
  },
  {
   "cell_type": "markdown",
   "metadata": {},
   "source": [
    "Sometimes your package does can have optional functionality,\n",
    "e.g. `pip install 'gym[atari,box2d]'` in OpenAi gym\n",
    "\n",
    "These optional extras can be specified with `extras_require` dictionary of lists:\n",
    "```python\n",
    "setup(\n",
    "    ...,\n",
    "    extras_require={\n",
    "        'atari': ['atari_py~=0.2.0', 'Pillow', 'opencv-python'],\n",
    "        'box2d': ['box2d-py~=2.3.5'],\n",
    "        'classic_control': [],\n",
    "        'mujoco': ['mujoco_py>=1.50, <2.0', 'imageio'],\n",
    "        'robotics': ['mujoco_py>=1.50, <2.0', 'imageio'],\n",
    "    }\n",
    ")\n",
    "```"
   ]
  },
  {
   "cell_type": "markdown",
   "metadata": {},
   "source": [
    "<br>"
   ]
  },
  {
   "cell_type": "markdown",
   "metadata": {},
   "source": [
    "### Distributing Package Data and Resources\n",
    "\n",
    "Data relevant to the package's implementation, or documentation to the end users of the package, configuration files, user message catalogs\n",
    "\n",
    "* `package_data` -- a dict mapping a package to a list of relative paths to include in the package\n",
    "    * files are expected to be part of the package in the source directories"
   ]
  },
  {
   "cell_type": "markdown",
   "metadata": {},
   "source": [
    "        #     root\n",
    "        #       ├── project\n",
    "        #       │   ├── ...\n",
    "        #       │   └── samples\n",
    "        #       │       └── *.dat\n",
    "        #       └── setup.py\n",
    "```python\n",
    "setup(...,\n",
    "      package_data={\n",
    "          'project': [\n",
    "              'samples/*.dat'\n",
    "          ]\n",
    "      },\n",
    "```"
   ]
  },
  {
   "cell_type": "markdown",
   "metadata": {},
   "source": [
    "[data-n-stuff](https://github.com/ivannz/fds2020-packaging.git)"
   ]
  },
  {
   "cell_type": "markdown",
   "metadata": {},
   "source": [
    "<br>"
   ]
  },
  {
   "cell_type": "markdown",
   "metadata": {},
   "source": [
    "### Optional Package Meta-Data"
   ]
  },
  {
   "cell_type": "markdown",
   "metadata": {},
   "source": [
    "[Additional meta-data](https://docs.python.org/3/distutils/setupscript.html#additional-meta-data)\n",
    "is good to keep filled in, so that the end users of ypur package know the necessary details such as\n",
    "* who is the author, and whom to contact for support/bugreport\n",
    "* [license](https://choosealicense.com/) covering the terms and limitations\n",
    "* description\n",
    "\n",
    "```python\n",
    "setup(\n",
    "    ...,\n",
    "    author=\"Author Name\",\n",
    "    author_email=\"author@email.io\",\n",
    " \n",
    "    description=\n",
    "\"\"\"Our package implements  a framework for end-to-end irc app  integration and\"\"\"\n",
    "\"\"\" uses Spring  Boot to serve  the application,  leveraging Core  Annotations\"\"\"\n",
    "\"\"\" to manage the user model, model binding and migration code, and additional\"\"\"\n",
    "\"\"\" dependencies on Vault and Spring Boot.\"\"\",\n",
    "\n",
    "    keywords=\"lorem ipsum dolor sit amet consectetur adipiscing elit\",\n",
    "    license=\"MIT License\",\n",
    ")\n",
    "```"
   ]
  },
  {
   "cell_type": "markdown",
   "metadata": {},
   "source": [
    "<br>"
   ]
  },
  {
   "cell_type": "markdown",
   "metadata": {},
   "source": [
    "# Practical"
   ]
  },
  {
   "cell_type": "markdown",
   "metadata": {},
   "source": [
    "You are given a file `flamboyant_lamarr.py` which works and does something.\n",
    "\n",
    "Your goal is to make it into an better organized package that can be run as a script.\n",
    "* create a couple of files and directories here and there\n",
    "* move some blocks of code around with the necessary glueing imports\n",
    "* try to separate code from data and put the latter in a some resource file (`csv`, `json`, `yaml` whatever)\n",
    "* write a `setup.py`, build a `wheel`, and run\n",
    " `py_modules`\n",
    "\n",
    "```bash\n",
    "python -m <the name of your choosing> 100\n",
    "```"
   ]
  },
  {
   "cell_type": "markdown",
   "metadata": {},
   "source": [
    "Try to be creative and reasonable with the structure:\n",
    "* what is the most natural way of grouping code?\n",
    "* which code is service and tools?\n",
    "* what is core functionality?"
   ]
  },
  {
   "cell_type": "markdown",
   "metadata": {},
   "source": [
    "[flamboyant_lamarr](https://github.com/ivannz/fds2020-packaging.git)"
   ]
  },
  {
   "cell_type": "markdown",
   "metadata": {},
   "source": [
    "<br>"
   ]
  },
  {
   "cell_type": "markdown",
   "metadata": {},
   "source": [
    "## Glossed over details of `setup()` \n",
    "\n",
    "* other [keywords](https://setuptools.readthedocs.io/en/latest/setuptools.html#new-and-changed-setup-keywords)\n",
    "* specifying setup via [setup.cfg](https://docs.python.org/3/distutils/configfile.html)\n",
    "\n",
    "https://setuptools.readthedocs.io/en/latest/setuptools.html"
   ]
  },
  {
   "cell_type": "markdown",
   "metadata": {},
   "source": [
    "<br>"
   ]
  },
  {
   "cell_type": "code",
   "execution_count": null,
   "metadata": {},
   "outputs": [],
   "source": [
    "assert False"
   ]
  },
  {
   "cell_type": "markdown",
   "metadata": {},
   "source": [
    "<br>"
   ]
  },
  {
   "cell_type": "markdown",
   "metadata": {},
   "source": [
    "# Trunk"
   ]
  },
  {
   "cell_type": "markdown",
   "metadata": {},
   "source": [
    "Here is how you export different logic and functionality inside the module.\n",
    "\n",
    "```python\n",
    "# module/__init__.py\n",
    "from .pipeline import run, save  # import `run`, `save` from sub-module `pipeline`\n",
    "from .config import load         # import `load` from sub-package `pipeline`\n",
    "\n",
    "\n",
    "# module/core/__init__.py\n",
    "from .load import load           # ! overrides exposing .load\n",
    "from .model import build\n",
    "\n",
    "\n",
    "# module/core/model/__init__.py\n",
    "from .attn import Attention      # `Attention` from child `attn`\n",
    "from .lstm import LSTM           # `LSTM` from child `lstm`\n",
    "\n",
    "def build(options):\n",
    "    # build model from options\n",
    "\n",
    "# module/config/__init__.py\n",
    "from . import json, yaml         # import `json` and `yaml` from own parent\n",
    "\n",
    "def load(filename):\n",
    "    # dispatch to json.load or yaml.load depending on filename's extension\n",
    "```"
   ]
  },
  {
   "cell_type": "markdown",
   "metadata": {},
   "source": [
    "This allows you to write something on the lines of\n",
    "\n",
    "```python\n",
    "import module\n",
    "\n",
    "from module import run                # `run` exposed by `module`\n",
    "from module import config as cfg      # `config` of `module` aliased as `cfg`\n",
    "from module.core import build, load   # `build` and `load` from submodule `core`\n",
    "\n",
    "\n",
    "config = cfg.load(\"./experiments/config__20200416__grid.json\")\n",
    "config = cfg.fix_defaults(config)\n",
    "\n",
    "result = run(model(config), load(\"./data/records.csv\", config))\n",
    "\n",
    "module.save(result, config[\"target\"])\n",
    "```"
   ]
  },
  {
   "cell_type": "markdown",
   "metadata": {},
   "source": [
    "<br>"
   ]
  },
  {
   "cell_type": "markdown",
   "metadata": {},
   "source": [
    "<br>"
   ]
  },
  {
   "cell_type": "markdown",
   "metadata": {},
   "source": [
    "The most basic version is the release number -- a **series of digits punctuated by dots**. Each series is treated numerically ignoring leading zeros and specify ordinal numbers of *release*, *subrelease*, *subsub-release* and so on.\n",
    "\n",
    "Versions are comparable\n",
    "* `0.9 <= 0.10 == 1.90.0 <= 1.10.01`\n",
    "\n",
    "**Release zero** usually indicates that the API of your library is **work-in-progress** and is not guaranteed to be consistent even between subreleases."
   ]
  },
  {
   "cell_type": "code",
   "execution_count": null,
   "metadata": {},
   "outputs": [],
   "source": [
    "Version(\"0.0.5\") <= Version(\"0.1.2\"), \\\n",
    "Version(\"1.3.4\") <= Version(\"1.3.12\"), \\\n",
    "Version(\"2019.12.31\") <= Version(\"2020.4\")"
   ]
  },
  {
   "cell_type": "markdown",
   "metadata": {},
   "source": [
    "A version consists of an alternating series of release numbers and\n",
    "pre-release or post-release tags. it is a \n",
    "\n",
    "* pre-release tags are older than the release number (`a|b|c|rc|alpha|beta|pre|preview` with a number)\n",
    "    * `1.2a-1` $\\leq$ `1.2b` $\\leq$ `1.2b-3` $\\leq$ `1.2`\n",
    "\n",
    "* post-release tags, e.g. patches, ports, builds, revisions, or date stamps, are newer than the release (`post|rev|r` or `-[0-9]`)\n",
    "    * `1.2` $\\leq$ `1.2-1` $\\leq$ `1.2post-2`"
   ]
  },
  {
   "cell_type": "markdown",
   "metadata": {},
   "source": [
    "<br>"
   ]
  }
 ],
 "metadata": {
  "kernelspec": {
   "display_name": "Python 3",
   "language": "python",
   "name": "python3"
  },
  "language_info": {
   "codemirror_mode": {
    "name": "ipython",
    "version": 3
   },
   "file_extension": ".py",
   "mimetype": "text/x-python",
   "name": "python",
   "nbconvert_exporter": "python",
   "pygments_lexer": "ipython3",
   "version": "3.8.1"
  }
 },
 "nbformat": 4,
 "nbformat_minor": 4
}
